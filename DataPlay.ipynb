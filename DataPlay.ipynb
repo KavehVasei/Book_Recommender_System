{
 "cells": [
  {
   "cell_type": "markdown",
   "id": "1980efc0",
   "metadata": {},
   "source": [
    "links to rmember :\n",
    "\n",
    "\n",
    "    datasets:\n",
    "      https://sites.google.com/eng.ucsd.edu/ucsdbookgraph/home?authuser=0\n",
    "      \n",
    "      \n",
    "      https://www.kaggle.com/datasets/bahramjannesarr/goodreads-book-datasets-10m/discussion?select=book300k-400k.csv    kaggle version can give some ideas on useful features\n",
    "      \n",
    "      \n",
    "    meetings reports: \n",
    "      https://docs.google.com/document/d/1u1gj-lFCBMWq5EHUAQfJXjPPUHh2Wusp713xlhQhuPc/edit#heading=h.khrl74ii4si\n",
    "    \n",
    "    also check these resources:\n",
    "      https://github.com/SoroushGhaderi/goodreads_book_dataset  how to read from goodread API\n",
    "      \n",
    "      "
   ]
  },
  {
   "cell_type": "markdown",
   "id": "6b838def",
   "metadata": {},
   "source": [
    "Goals:\n",
    "\n",
    "    To create a personalized book recommendation system that suggests books based on a user's reading history, ratings, and reviews.\n",
    "    To improve user engagement and retention on a book platform by providing users with relevant book recommendations.\n",
    "    To increase book sales and revenue for publishers and authors by promoting their books to potential readers.\n",
    "\n",
    "Problem Statement:\n",
    "\n",
    "Develop a book recommendation system using the Goodreads dataset to provide personalized book recommendations to users. The system should be able to recommend books based on a user's reading history, ratings, and reviews, as well as other factors such as genre, author, and publication date. The ultimate goal is to create a user-friendly and effective recommender system that enhances the user's reading experience and helps them discover new books that match their preferences.\n",
    "\n",
    "Sample usages of the book recommendation system could include:\n",
    "\n",
    "    A web or mobile app that recommends books to users based on their reading history, ratings, and reviews.\n",
    "    A book platform that recommends books to users based on their preferences and interests, increasing user engagement and retention.\n",
    "    A publisher or author platform that recommends books to readers based on their preferences and interests, increasing book sales and revenue.\n",
    "    A book club platform that recommends books to members based on their preferences and interests, improving the book club experience and fostering community engagement.\n",
    "    A bookstore or library platform that recommends books to customers based on their preferences and interests, improving the customer experience and increasing sales."
   ]
  },
  {
   "cell_type": "code",
   "execution_count": 1,
   "id": "da220faf",
   "metadata": {},
   "outputs": [],
   "source": [
    "import json\n",
    "import pandas as pd\n",
    "import gzip"
   ]
  },
  {
   "cell_type": "markdown",
   "id": "24f4a904",
   "metadata": {},
   "source": [
    "### lets directly read from gzip"
   ]
  },
  {
   "cell_type": "code",
   "execution_count": 6,
   "id": "157442c8",
   "metadata": {
    "scrolled": false
   },
   "outputs": [
    {
     "data": {
      "text/plain": [
       "{'isbn': '',\n",
       " 'text_reviews_count': '1',\n",
       " 'series': ['147734'],\n",
       " 'country_code': 'US',\n",
       " 'language_code': '',\n",
       " 'popular_shelves': [{'count': '1057', 'name': 'to-read'},\n",
       "  {'count': '101', 'name': 'young-adult'},\n",
       "  {'count': '59', 'name': 'ya'},\n",
       "  {'count': '58', 'name': 'paranormal'},\n",
       "  {'count': '55', 'name': 'fantasy'},\n",
       "  {'count': '36', 'name': 'favorites'},\n",
       "  {'count': '35', 'name': 'romance'},\n",
       "  {'count': '26', 'name': 'urban-fantasy'},\n",
       "  {'count': '25', 'name': 'books-i-own'},\n",
       "  {'count': '25', 'name': 'supernatural'},\n",
       "  {'count': '19', 'name': 'fiction'},\n",
       "  {'count': '18', 'name': 'owned'},\n",
       "  {'count': '18', 'name': 'currently-reading'},\n",
       "  {'count': '16', 'name': 'paranormal-romance'},\n",
       "  {'count': '16', 'name': 'l-j-smith'},\n",
       "  {'count': '14', 'name': 'lj-smith'},\n",
       "  {'count': '14', 'name': 'series'},\n",
       "  {'count': '13', 'name': 'dark-visions'},\n",
       "  {'count': '11', 'name': 'teen'},\n",
       "  {'count': '9', 'name': 'vampires'},\n",
       "  {'count': '8', 'name': 'ebooks'},\n",
       "  {'count': '7', 'name': 'read-in-2012'},\n",
       "  {'count': '7', 'name': 'kindle'},\n",
       "  {'count': '7', 'name': 'l-j--smith'},\n",
       "  {'count': '6', 'name': 'love-triangle'},\n",
       "  {'count': '6', 'name': 'magic'},\n",
       "  {'count': '5', 'name': 'my-books'},\n",
       "  {'count': '5', 'name': 'psychics'},\n",
       "  {'count': '5', 'name': 'i-own'},\n",
       "  {'count': '5', 'name': 'ebook'},\n",
       "  {'count': '5', 'name': 'horror'},\n",
       "  {'count': '4', 'name': 'read-in-2015'},\n",
       "  {'count': '4', 'name': 'ya-paranormal'},\n",
       "  {'count': '4', 'name': 'owned-books'},\n",
       "  {'count': '4', 'name': 'science-fiction'},\n",
       "  {'count': '4', 'name': 'teen-romance'},\n",
       "  {'count': '4', 'name': 'psychic'},\n",
       "  {'count': '4', 'name': 'library'},\n",
       "  {'count': '3', 'name': 'own-it'},\n",
       "  {'count': '3', 'name': 'to-buy'},\n",
       "  {'count': '3', 'name': 'series-finished'},\n",
       "  {'count': '3', 'name': 'read-in-2013'},\n",
       "  {'count': '3', 'name': 'books-i-have'},\n",
       "  {'count': '3', 'name': 're-read'},\n",
       "  {'count': '3', 'name': 'teen-fiction'},\n",
       "  {'count': '3', 'name': 'have'},\n",
       "  {'count': '3', 'name': 'my-library'},\n",
       "  {'count': '3', 'name': 'trilogy'},\n",
       "  {'count': '3', 'name': 're-reads'},\n",
       "  {'count': '3', 'name': 'reviewed'},\n",
       "  {'count': '3', 'name': 'other-supernatural'},\n",
       "  {'count': '3', 'name': 'high-school'},\n",
       "  {'count': '3', 'name': 'smith-lj'},\n",
       "  {'count': '3', 'name': 'trilogies'},\n",
       "  {'count': '3', 'name': 'favourites'},\n",
       "  {'count': '3', 'name': 'sci-fi'},\n",
       "  {'count': '3', 'name': 'witches'},\n",
       "  {'count': '3', 'name': 'adult'},\n",
       "  {'count': '3', 'name': 'read-in-2009'},\n",
       "  {'count': '3', 'name': 'sci-fi-fantasy'},\n",
       "  {'count': '3', 'name': 'young-adult-fiction'},\n",
       "  {'count': '3', 'name': 'childhood-favorites'},\n",
       "  {'count': '2', 'name': 'read-in-2016'},\n",
       "  {'count': '2', 'name': 'read-2016'},\n",
       "  {'count': '2', 'name': 'e-book'},\n",
       "  {'count': '2', 'name': 'finished-series'},\n",
       "  {'count': '2', 'name': 'novels'},\n",
       "  {'count': '2', 'name': 'in-czech'},\n",
       "  {'count': '2', 'name': 'paperback'},\n",
       "  {'count': '2', 'name': 'ready-to-read'},\n",
       "  {'count': '2', 'name': 'superpowers'},\n",
       "  {'count': '2', 'name': 'fantasy-paranormal'},\n",
       "  {'count': '2', 'name': 'back-in-the-day'},\n",
       "  {'count': '2', 'name': 'adventure'},\n",
       "  {'count': '2', 'name': '3-star'},\n",
       "  {'count': '2', 'name': 'romantic'},\n",
       "  {'count': '2', 'name': 'mystery-suspense'},\n",
       "  {'count': '2', 'name': 'teenage-years'},\n",
       "  {'count': '2', 'name': 'sort'},\n",
       "  {'count': '2', 'name': 'lj-smith-dark-visions'},\n",
       "  {'count': '2', 'name': 'czech'},\n",
       "  {'count': '2', 'name': '8th-grade'},\n",
       "  {'count': '2', 'name': 'childhood-reads'},\n",
       "  {'count': '2', 'name': 'read-in-english'},\n",
       "  {'count': '2', 'name': 'teen-fantasy'},\n",
       "  {'count': '2', 'name': 'female-protagonist'},\n",
       "  {'count': '2', 'name': 'my-ebooks'},\n",
       "  {'count': '2', 'name': '4-stars'},\n",
       "  {'count': '2', 'name': 'epubs'},\n",
       "  {'count': '2', 'name': 'when-i-was-young'},\n",
       "  {'count': '2', 'name': 'esp'},\n",
       "  {'count': '2', 'name': 'teen-favorites'},\n",
       "  {'count': '2', 'name': 'audio'},\n",
       "  {'count': '2', 'name': 'audiobook'},\n",
       "  {'count': '2', 'name': '3st-in-series'},\n",
       "  {'count': '2', 'name': 's-dark-visions'},\n",
       "  {'count': '2', 'name': 'fantasy-sci-fi'},\n",
       "  {'count': '2', 'name': '2011-reads'},\n",
       "  {'count': '2', 'name': 'mystery'},\n",
       "  {'count': '2', 'name': 'vampire'}],\n",
       " 'asin': 'B0056A00P4',\n",
       " 'is_ebook': 'true',\n",
       " 'average_rating': '4.04',\n",
       " 'kindle_asin': 'B0056A00P4',\n",
       " 'similar_books': ['519546', '1295074', '21407416'],\n",
       " 'description': \"This is the final tale in the bestselling author L.J. Smith's romantic horrortrilogy. Now, Kaitlyn Fairchild and her friends must put the powerful crystalto the test--to stop an experiment that has turned one of them into a psychicvampire. Kaitlyn must choose at last--Rob or Gabriel.\",\n",
       " 'format': '',\n",
       " 'link': 'https://www.goodreads.com/book/show/12182387-the-passion',\n",
       " 'authors': [{'author_id': '50873', 'role': ''},\n",
       "  {'author_id': '232533', 'role': 'Ubersetzer'}],\n",
       " 'publisher': '',\n",
       " 'num_pages': '',\n",
       " 'publication_day': '',\n",
       " 'isbn13': '',\n",
       " 'publication_month': '',\n",
       " 'edition_information': '',\n",
       " 'publication_year': '',\n",
       " 'url': 'https://www.goodreads.com/book/show/12182387-the-passion',\n",
       " 'image_url': 'https://s.gr-assets.com/assets/nophoto/book/111x148-bcc042a9c91a29c1d680899eff700a03.png',\n",
       " 'book_id': '12182387',\n",
       " 'ratings_count': '4',\n",
       " 'work_id': '285263',\n",
       " 'title': 'The Passion (Dark Visions, #3)',\n",
       " 'title_without_series': 'The Passion (Dark Visions, #3)'}"
      ]
     },
     "execution_count": 6,
     "metadata": {},
     "output_type": "execute_result"
    }
   ],
   "source": [
    "#filename='goodreads_books.json.gz'\n",
    "filename='goodreads_books_young_adult.json.gz'\n",
    "with gzip.open(filename,'r') as f:        \n",
    "    line = f.readline()\n",
    "    \n",
    "data = json.loads(line)    \n",
    "data"
   ]
  },
  {
   "cell_type": "code",
   "execution_count": 7,
   "id": "8cddc549",
   "metadata": {},
   "outputs": [
    {
     "data": {
      "text/plain": [
       "('50873',\n",
       " ['to-read',\n",
       "  'young-adult',\n",
       "  'ya',\n",
       "  'paranormal',\n",
       "  'fantasy',\n",
       "  'favorites',\n",
       "  'romance',\n",
       "  'urban-fantasy',\n",
       "  'books-i-own',\n",
       "  'supernatural',\n",
       "  'fiction',\n",
       "  'owned',\n",
       "  'currently-reading',\n",
       "  'paranormal-romance',\n",
       "  'l-j-smith',\n",
       "  'lj-smith',\n",
       "  'series',\n",
       "  'dark-visions',\n",
       "  'teen',\n",
       "  'vampires',\n",
       "  'ebooks',\n",
       "  'read-in-2012',\n",
       "  'kindle',\n",
       "  'l-j--smith',\n",
       "  'love-triangle',\n",
       "  'magic',\n",
       "  'my-books',\n",
       "  'psychics',\n",
       "  'i-own',\n",
       "  'ebook',\n",
       "  'horror',\n",
       "  'read-in-2015',\n",
       "  'ya-paranormal',\n",
       "  'owned-books',\n",
       "  'science-fiction',\n",
       "  'teen-romance',\n",
       "  'psychic',\n",
       "  'library',\n",
       "  'own-it',\n",
       "  'to-buy',\n",
       "  'series-finished',\n",
       "  'read-in-2013',\n",
       "  'books-i-have',\n",
       "  're-read',\n",
       "  'teen-fiction',\n",
       "  'have',\n",
       "  'my-library',\n",
       "  'trilogy',\n",
       "  're-reads',\n",
       "  'reviewed',\n",
       "  'other-supernatural',\n",
       "  'high-school',\n",
       "  'smith-lj',\n",
       "  'trilogies',\n",
       "  'favourites',\n",
       "  'sci-fi',\n",
       "  'witches',\n",
       "  'adult',\n",
       "  'read-in-2009',\n",
       "  'sci-fi-fantasy',\n",
       "  'young-adult-fiction',\n",
       "  'childhood-favorites',\n",
       "  'read-in-2016',\n",
       "  'read-2016',\n",
       "  'e-book',\n",
       "  'finished-series',\n",
       "  'novels',\n",
       "  'in-czech',\n",
       "  'paperback',\n",
       "  'ready-to-read',\n",
       "  'superpowers',\n",
       "  'fantasy-paranormal',\n",
       "  'back-in-the-day',\n",
       "  'adventure',\n",
       "  '3-star',\n",
       "  'romantic',\n",
       "  'mystery-suspense',\n",
       "  'teenage-years',\n",
       "  'sort',\n",
       "  'lj-smith-dark-visions',\n",
       "  'czech',\n",
       "  '8th-grade',\n",
       "  'childhood-reads',\n",
       "  'read-in-english',\n",
       "  'teen-fantasy',\n",
       "  'female-protagonist',\n",
       "  'my-ebooks',\n",
       "  '4-stars',\n",
       "  'epubs',\n",
       "  'when-i-was-young',\n",
       "  'esp',\n",
       "  'teen-favorites',\n",
       "  'audio',\n",
       "  'audiobook',\n",
       "  '3st-in-series',\n",
       "  's-dark-visions',\n",
       "  'fantasy-sci-fi',\n",
       "  '2011-reads',\n",
       "  'mystery',\n",
       "  'vampire'])"
      ]
     },
     "execution_count": 7,
     "metadata": {},
     "output_type": "execute_result"
    }
   ],
   "source": [
    "def get_author(data):\n",
    "    for i in range(len(data['authors'])):\n",
    "        author = data['authors'][i]['author_id']\n",
    "        return author\n",
    "\n",
    "def get_genre(data):\n",
    "    genres = []\n",
    "    for i in range(len(data['popular_shelves'])):\n",
    "        genre = list(data['popular_shelves'][i].values())[1]\n",
    "        genres.append(genre)\n",
    "    return genres\n",
    "\n",
    "get_author(data),get_genre(data)\n",
    "\n"
   ]
  },
  {
   "cell_type": "code",
   "execution_count": 8,
   "id": "c5575bf7",
   "metadata": {},
   "outputs": [
    {
     "data": {
      "text/plain": [
       "{'book_id': '12182387',\n",
       " 'isbn': '',\n",
       " 'author_id': '50873',\n",
       " 'publisher': '',\n",
       " 'title': 'The Passion (Dark Visions, #3)',\n",
       " 'genres': ['to-read',\n",
       "  'young-adult',\n",
       "  'ya',\n",
       "  'paranormal',\n",
       "  'fantasy',\n",
       "  'favorites',\n",
       "  'romance',\n",
       "  'urban-fantasy',\n",
       "  'books-i-own',\n",
       "  'supernatural',\n",
       "  'fiction',\n",
       "  'owned',\n",
       "  'currently-reading',\n",
       "  'paranormal-romance',\n",
       "  'l-j-smith',\n",
       "  'lj-smith',\n",
       "  'series',\n",
       "  'dark-visions',\n",
       "  'teen',\n",
       "  'vampires',\n",
       "  'ebooks',\n",
       "  'read-in-2012',\n",
       "  'kindle',\n",
       "  'l-j--smith',\n",
       "  'love-triangle',\n",
       "  'magic',\n",
       "  'my-books',\n",
       "  'psychics',\n",
       "  'i-own',\n",
       "  'ebook',\n",
       "  'horror',\n",
       "  'read-in-2015',\n",
       "  'ya-paranormal',\n",
       "  'owned-books',\n",
       "  'science-fiction',\n",
       "  'teen-romance',\n",
       "  'psychic',\n",
       "  'library',\n",
       "  'own-it',\n",
       "  'to-buy',\n",
       "  'series-finished',\n",
       "  'read-in-2013',\n",
       "  'books-i-have',\n",
       "  're-read',\n",
       "  'teen-fiction',\n",
       "  'have',\n",
       "  'my-library',\n",
       "  'trilogy',\n",
       "  're-reads',\n",
       "  'reviewed',\n",
       "  'other-supernatural',\n",
       "  'high-school',\n",
       "  'smith-lj',\n",
       "  'trilogies',\n",
       "  'favourites',\n",
       "  'sci-fi',\n",
       "  'witches',\n",
       "  'adult',\n",
       "  'read-in-2009',\n",
       "  'sci-fi-fantasy',\n",
       "  'young-adult-fiction',\n",
       "  'childhood-favorites',\n",
       "  'read-in-2016',\n",
       "  'read-2016',\n",
       "  'e-book',\n",
       "  'finished-series',\n",
       "  'novels',\n",
       "  'in-czech',\n",
       "  'paperback',\n",
       "  'ready-to-read',\n",
       "  'superpowers',\n",
       "  'fantasy-paranormal',\n",
       "  'back-in-the-day',\n",
       "  'adventure',\n",
       "  '3-star',\n",
       "  'romantic',\n",
       "  'mystery-suspense',\n",
       "  'teenage-years',\n",
       "  'sort',\n",
       "  'lj-smith-dark-visions',\n",
       "  'czech',\n",
       "  '8th-grade',\n",
       "  'childhood-reads',\n",
       "  'read-in-english',\n",
       "  'teen-fantasy',\n",
       "  'female-protagonist',\n",
       "  'my-ebooks',\n",
       "  '4-stars',\n",
       "  'epubs',\n",
       "  'when-i-was-young',\n",
       "  'esp',\n",
       "  'teen-favorites',\n",
       "  'audio',\n",
       "  'audiobook',\n",
       "  '3st-in-series',\n",
       "  's-dark-visions',\n",
       "  'fantasy-sci-fi',\n",
       "  '2011-reads',\n",
       "  'mystery',\n",
       "  'vampire'],\n",
       " 'description': \"This is the final tale in the bestselling author L.J. Smith's romantic horrortrilogy. Now, Kaitlyn Fairchild and her friends must put the powerful crystalto the test--to stop an experiment that has turned one of them into a psychicvampire. Kaitlyn must choose at last--Rob or Gabriel.\",\n",
       " 'avg_rating': '4.04',\n",
       " 'ratings_count': '4',\n",
       " 'num_pages': '',\n",
       " 'pub_year': '',\n",
       " 'language_code': '',\n",
       " 'similar_books': ['519546', '1295074', '21407416'],\n",
       " 'cover_image': 'https://s.gr-assets.com/assets/nophoto/book/111x148-bcc042a9c91a29c1d680899eff700a03.png'}"
      ]
     },
     "execution_count": 8,
     "metadata": {},
     "output_type": "execute_result"
    }
   ],
   "source": [
    "def parse_fields(data):\n",
    "    return {\n",
    "        \"book_id\": data[\"book_id\"],\n",
    "        \"isbn\" : data['isbn'],\n",
    "        \"author_id\" : get_author(data),\n",
    "        \"publisher\" : data['publisher'],\n",
    "        \"title\": data[\"title_without_series\"],\n",
    "        \"genres\": get_genre(data),\n",
    "        \"description\" :data['description'],\n",
    "        \"avg_rating\" : data['average_rating'],\n",
    "        \"ratings_count\": data[\"ratings_count\"],\n",
    "        \"num_pages\" : data['num_pages'],\n",
    "        \"pub_year\" : data['publication_year'],\n",
    "        'language_code' : data['language_code'],\n",
    "        \"similar_books\" : data['similar_books'],\n",
    "#        \"url\": data[\"url\"], \n",
    "        \"cover_image\": data[\"image_url\"]}\n",
    "parse_fields(data)"
   ]
  },
  {
   "cell_type": "code",
   "execution_count": 14,
   "id": "5ac3407c",
   "metadata": {},
   "outputs": [
    {
     "name": "stdout",
     "output_type": "stream",
     "text": [
      "CPU times: user 16.5 s, sys: 728 ms, total: 17.3 s\n",
      "Wall time: 18.9 s\n"
     ]
    },
    {
     "data": {
      "text/html": [
       "<div>\n",
       "<style scoped>\n",
       "    .dataframe tbody tr th:only-of-type {\n",
       "        vertical-align: middle;\n",
       "    }\n",
       "\n",
       "    .dataframe tbody tr th {\n",
       "        vertical-align: top;\n",
       "    }\n",
       "\n",
       "    .dataframe thead th {\n",
       "        text-align: right;\n",
       "    }\n",
       "</style>\n",
       "<table border=\"1\" class=\"dataframe\">\n",
       "  <thead>\n",
       "    <tr style=\"text-align: right;\">\n",
       "      <th></th>\n",
       "      <th>book_id</th>\n",
       "      <th>isbn</th>\n",
       "      <th>author_id</th>\n",
       "      <th>publisher</th>\n",
       "      <th>title</th>\n",
       "      <th>genres</th>\n",
       "      <th>description</th>\n",
       "      <th>avg_rating</th>\n",
       "      <th>ratings_count</th>\n",
       "      <th>num_pages</th>\n",
       "      <th>pub_year</th>\n",
       "      <th>language_code</th>\n",
       "      <th>similar_books</th>\n",
       "      <th>cover_image</th>\n",
       "    </tr>\n",
       "  </thead>\n",
       "  <tbody>\n",
       "    <tr>\n",
       "      <th>0</th>\n",
       "      <td>21401181</td>\n",
       "      <td>0698143760</td>\n",
       "      <td>7314532</td>\n",
       "      <td>Viking Children's</td>\n",
       "      <td>Half Bad (Half Life, #1)</td>\n",
       "      <td>[fantasy, young-adult, ya, favorites, books-i-...</td>\n",
       "      <td>Wanted by no one.\\nHunted by everyone.\\nSixtee...</td>\n",
       "      <td>3.80</td>\n",
       "      <td>33</td>\n",
       "      <td>416</td>\n",
       "      <td>2014</td>\n",
       "      <td></td>\n",
       "      <td>[15728807, 17182499, 15673520, 16081758, 17842...</td>\n",
       "      <td>https://images.gr-assets.com/books/1394747643m...</td>\n",
       "    </tr>\n",
       "    <tr>\n",
       "      <th>1</th>\n",
       "      <td>10099492</td>\n",
       "      <td></td>\n",
       "      <td>293603</td>\n",
       "      <td></td>\n",
       "      <td>Twelfth Grade Kills (The Chronicles of Vladimi...</td>\n",
       "      <td>[to-read, vampires, currently-reading, young-a...</td>\n",
       "      <td>It all comes down to this.\\nVlad's running out...</td>\n",
       "      <td>4.35</td>\n",
       "      <td>152</td>\n",
       "      <td></td>\n",
       "      <td></td>\n",
       "      <td>eng</td>\n",
       "      <td>[25861113, 7430195, 18765937, 6120544, 3247550...</td>\n",
       "      <td>https://s.gr-assets.com/assets/nophoto/book/11...</td>\n",
       "    </tr>\n",
       "    <tr>\n",
       "      <th>2</th>\n",
       "      <td>22642971</td>\n",
       "      <td>0990662616</td>\n",
       "      <td>4018722</td>\n",
       "      <td>Scripturient Books</td>\n",
       "      <td>The Body Electric</td>\n",
       "      <td>[to-read, young-adult, sci-fi, science-fiction...</td>\n",
       "      <td>The future world is at peace.\\nElla Shepherd h...</td>\n",
       "      <td>3.71</td>\n",
       "      <td>1525</td>\n",
       "      <td>351</td>\n",
       "      <td>2014</td>\n",
       "      <td>eng</td>\n",
       "      <td>[20499652, 17934493, 13518102, 16210411, 17149...</td>\n",
       "      <td>https://images.gr-assets.com/books/1406979059m...</td>\n",
       "    </tr>\n",
       "    <tr>\n",
       "      <th>3</th>\n",
       "      <td>31556136</td>\n",
       "      <td>0062373374</td>\n",
       "      <td>6537142</td>\n",
       "      <td>Balzer + Bray</td>\n",
       "      <td>Like Water</td>\n",
       "      <td>[to-read, young-adult, contemporary, 2017-rele...</td>\n",
       "      <td>A gorgeously written and deeply felt literary ...</td>\n",
       "      <td>3.89</td>\n",
       "      <td>109</td>\n",
       "      <td>304</td>\n",
       "      <td>2017</td>\n",
       "      <td></td>\n",
       "      <td>[]</td>\n",
       "      <td>https://images.gr-assets.com/books/1503003866m...</td>\n",
       "    </tr>\n",
       "    <tr>\n",
       "      <th>4</th>\n",
       "      <td>8030991</td>\n",
       "      <td>9512310201</td>\n",
       "      <td>2760047</td>\n",
       "      <td>Karisto</td>\n",
       "      <td>Katso eteesi, Lotta!</td>\n",
       "      <td>[to-read, childhood, read-in-2002, children-or...</td>\n",
       "      <td>Loin tusaisen katseen pimeyteen.\\n- Pidetaan t...</td>\n",
       "      <td>3.53</td>\n",
       "      <td>34</td>\n",
       "      <td>139</td>\n",
       "      <td>1976</td>\n",
       "      <td>fin</td>\n",
       "      <td>[]</td>\n",
       "      <td>https://images.gr-assets.com/books/1295309151m...</td>\n",
       "    </tr>\n",
       "  </tbody>\n",
       "</table>\n",
       "</div>"
      ],
      "text/plain": [
       "    book_id        isbn author_id           publisher  \\\n",
       "0  21401181  0698143760   7314532   Viking Children's   \n",
       "1  10099492                293603                       \n",
       "2  22642971  0990662616   4018722  Scripturient Books   \n",
       "3  31556136  0062373374   6537142       Balzer + Bray   \n",
       "4   8030991  9512310201   2760047             Karisto   \n",
       "\n",
       "                                               title  \\\n",
       "0                           Half Bad (Half Life, #1)   \n",
       "1  Twelfth Grade Kills (The Chronicles of Vladimi...   \n",
       "2                                  The Body Electric   \n",
       "3                                         Like Water   \n",
       "4                               Katso eteesi, Lotta!   \n",
       "\n",
       "                                              genres  \\\n",
       "0  [fantasy, young-adult, ya, favorites, books-i-...   \n",
       "1  [to-read, vampires, currently-reading, young-a...   \n",
       "2  [to-read, young-adult, sci-fi, science-fiction...   \n",
       "3  [to-read, young-adult, contemporary, 2017-rele...   \n",
       "4  [to-read, childhood, read-in-2002, children-or...   \n",
       "\n",
       "                                         description avg_rating ratings_count  \\\n",
       "0  Wanted by no one.\\nHunted by everyone.\\nSixtee...       3.80            33   \n",
       "1  It all comes down to this.\\nVlad's running out...       4.35           152   \n",
       "2  The future world is at peace.\\nElla Shepherd h...       3.71          1525   \n",
       "3  A gorgeously written and deeply felt literary ...       3.89           109   \n",
       "4  Loin tusaisen katseen pimeyteen.\\n- Pidetaan t...       3.53            34   \n",
       "\n",
       "  num_pages pub_year language_code  \\\n",
       "0       416     2014                 \n",
       "1                              eng   \n",
       "2       351     2014           eng   \n",
       "3       304     2017                 \n",
       "4       139     1976           fin   \n",
       "\n",
       "                                       similar_books  \\\n",
       "0  [15728807, 17182499, 15673520, 16081758, 17842...   \n",
       "1  [25861113, 7430195, 18765937, 6120544, 3247550...   \n",
       "2  [20499652, 17934493, 13518102, 16210411, 17149...   \n",
       "3                                                 []   \n",
       "4                                                 []   \n",
       "\n",
       "                                         cover_image  \n",
       "0  https://images.gr-assets.com/books/1394747643m...  \n",
       "1  https://s.gr-assets.com/assets/nophoto/book/11...  \n",
       "2  https://images.gr-assets.com/books/1406979059m...  \n",
       "3  https://images.gr-assets.com/books/1503003866m...  \n",
       "4  https://images.gr-assets.com/books/1295309151m...  "
      ]
     },
     "execution_count": 14,
     "metadata": {},
     "output_type": "execute_result"
    }
   ],
   "source": [
    "%%time\n",
    "books_titles = []\n",
    "\n",
    "with gzip.open(filename,'r') as f:\n",
    "    while True:\n",
    "        line = f.readline()\n",
    "        if not line:\n",
    "            break\n",
    "        data = json.loads(line)    \n",
    "        fields = parse_fields(data)\n",
    "        try:\n",
    "            ratings = int(fields[\"ratings_count\"])\n",
    "        except ValueError:\n",
    "            continue\n",
    "        if ratings > 7:\n",
    "            books_titles.append(fields)\n",
    "            \n",
    "books = pd.DataFrame.from_dict(books_titles)\n",
    "books.head()"
   ]
  },
  {
   "cell_type": "code",
   "execution_count": 15,
   "id": "38396140",
   "metadata": {},
   "outputs": [
    {
     "data": {
      "text/plain": [
       "(80426, 14)"
      ]
     },
     "execution_count": 15,
     "metadata": {},
     "output_type": "execute_result"
    }
   ],
   "source": [
    "books['avg_rating'] = books['avg_rating'].astype(float)\n",
    "books['language_code'] = books['language_code'].astype('category')\n",
    "books['ratings_count'] = books['ratings_count'].astype(int)\n",
    "books['num_pages'] = books['num_pages'].replace('', 0).astype(int)\n",
    "books.shape"
   ]
  },
  {
   "cell_type": "code",
   "execution_count": 21,
   "id": "94cb47ed",
   "metadata": {},
   "outputs": [
    {
     "name": "stdout",
     "output_type": "stream",
     "text": [
      "80426\n",
      "CPU times: user 49.2 ms, sys: 5.23 ms, total: 54.5 ms\n",
      "Wall time: 53.8 ms\n"
     ]
    },
    {
     "data": {
      "text/plain": [
       "8     1560\n",
       "9     1544\n",
       "10    1372\n",
       "11    1309\n",
       "12    1300\n",
       "13    1269\n",
       "15    1174\n",
       "14    1159\n",
       "16    1127\n",
       "18    1102\n",
       "17    1033\n",
       "20     991\n",
       "19     983\n",
       "21     907\n",
       "22     898\n",
       "23     867\n",
       "25     860\n",
       "27     809\n",
       "24     803\n",
       "26     764\n",
       "29     758\n",
       "28     742\n",
       "30     740\n",
       "31     666\n",
       "32     636\n",
       "33     636\n",
       "35     623\n",
       "37     566\n",
       "38     562\n",
       "39     558\n",
       "34     549\n",
       "36     547\n",
       "44     519\n",
       "41     515\n",
       "42     515\n",
       "40     513\n",
       "46     480\n",
       "45     476\n",
       "43     462\n",
       "47     433\n",
       "Name: ratings_count, dtype: int64"
      ]
     },
     "execution_count": 21,
     "metadata": {},
     "output_type": "execute_result"
    },
    {
     "data": {
      "image/png": "[encoded data removed]",
      "text/plain": [
       "<Figure size 432x288 with 1 Axes>"
      ]
     },
     "metadata": {
      "needs_background": "light"
     },
     "output_type": "display_data"
    }
   ],
   "source": [
    "%%time\n",
    "print(len(books))\n",
    "books.hist(column='ratings_count', range=[0, 100])\n",
    "ratecnt=books.ratings_count.value_counts()\n",
    "ratecnt.head(40)"
   ]
  },
  {
   "cell_type": "code",
   "execution_count": 24,
   "id": "7dc15900",
   "metadata": {},
   "outputs": [
    {
     "data": {
      "text/plain": [
       "False    52167\n",
       "True     28259\n",
       "dtype: int64"
      ]
     },
     "execution_count": 24,
     "metadata": {},
     "output_type": "execute_result"
    }
   ],
   "source": [
    "books.duplicated(subset=['title','author_id']).value_counts()"
   ]
  },
  {
   "cell_type": "code",
   "execution_count": null,
   "id": "4f59bda7",
   "metadata": {},
   "outputs": [],
   "source": []
  },
  {
   "cell_type": "code",
   "execution_count": 26,
   "id": "9ebaff67",
   "metadata": {},
   "outputs": [
    {
     "name": "stdout",
     "output_type": "stream",
     "text": [
      "8min 29s ± 2min 59s per loop (mean ± std. dev. of 7 runs, 1 loop each)\n"
     ]
    },
    {
     "data": {
      "image/png": "[encoded data removed]",
      "text/plain": [
       "<Figure size 432x288 with 1 Axes>"
      ]
     },
     "metadata": {
      "needs_background": "light"
     },
     "output_type": "display_data"
    },
    {
     "data": {
      "image/png": "[encoded data removed]",
      "text/plain": [
       "<Figure size 432x288 with 1 Axes>"
      ]
     },
     "metadata": {
      "needs_background": "light"
     },
     "output_type": "display_data"
    },
    {
     "data": {
      "image/png": "[encoded data removed]",
      "text/plain": [
       "<Figure size 432x288 with 1 Axes>"
      ]
     },
     "metadata": {
      "needs_background": "light"
     },
     "output_type": "display_data"
    },
    {
     "data": {
      "image/png": "[encoded data removed]",
      "text/plain": [
       "<Figure size 432x288 with 1 Axes>"
      ]
     },
     "metadata": {
      "needs_background": "light"
     },
     "output_type": "display_data"
    },
    {
     "data": {
      "image/png": "[encoded data removed]",
      "text/plain": [
       "<Figure size 432x288 with 1 Axes>"
      ]
     },
     "metadata": {
      "needs_background": "light"
     },
     "output_type": "display_data"
    },
    {
     "data": {
      "image/png": "[encoded data removed]",
      "text/plain": [
       "<Figure size 432x288 with 1 Axes>"
      ]
     },
     "metadata": {
      "needs_background": "light"
     },
     "output_type": "display_data"
    },
    {
     "data": {
      "image/png": "[encoded data removed]",
      "text/plain": [
       "<Figure size 432x288 with 1 Axes>"
      ]
     },
     "metadata": {
      "needs_background": "light"
     },
     "output_type": "display_data"
    },
    {
     "data": {
      "image/png": "[encoded data removed]",
      "text/plain": [
       "<Figure size 432x288 with 1 Axes>"
      ]
     },
     "metadata": {
      "needs_background": "light"
     },
     "output_type": "display_data"
    }
   ],
   "source": [
    "%%time\n",
    "books.plot.hist('ratings_count', range=[0, 40])"
   ]
  },
  {
   "cell_type": "code",
   "execution_count": null,
   "id": "52c7f7ca",
   "metadata": {},
   "outputs": [],
   "source": []
  }
 ],
 "metadata": {
  "kernelspec": {
   "display_name": "Python 3 (ipykernel)",
   "language": "python",
   "name": "python3"
  },
  "language_info": {
   "codemirror_mode": {
    "name": "ipython",
    "version": 3
   },
   "file_extension": ".py",
   "mimetype": "text/x-python",
   "name": "python",
   "nbconvert_exporter": "python",
   "pygments_lexer": "ipython3",
   "version": "3.9.7"
  }
 },
 "nbformat": 4,
 "nbformat_minor": 5
}
